{
 "cells": [
  {
   "cell_type": "markdown",
   "metadata": {},
   "source": [
    "# gradient boosting machine with python\n",
    "Qiudong Deng\n",
    "qddeng@gmail.com"
   ]
  },
  {
   "cell_type": "code",
   "execution_count": 1,
   "metadata": {
    "collapsed": false,
    "scrolled": false
   },
   "outputs": [],
   "source": [
    "#set wd\n",
    "\n",
    "import os\n",
    "os.getcwd()\n",
    "os.chdir('E:/2016 spring course/msa 8150/final project proposal')\n",
    "os.getcwd()\n",
    "\n",
    "# import modules\n",
    "import pandas as pd\n",
    "import numpy as np\n",
    "import subprocess\n",
    "\n",
    "#read data in-1\n",
    "#data from https://archive.ics.uci.edu/ml/machine-learning-databases/\n",
    "df = pd.read_csv(\"adult with col names with na.csv\", index_col=0)\n",
    "#list(df)"
   ]
  },
  {
   "cell_type": "code",
   "execution_count": 2,
   "metadata": {
    "collapsed": false,
    "scrolled": false
   },
   "outputs": [
    {
     "name": "stdout",
     "output_type": "stream",
     "text": [
      "32561 x 15\n",
      "age                int64\n",
      "workclass         object\n",
      "fnlwgt             int64\n",
      "education         object\n",
      "education-num      int64\n",
      "marital-status    object\n",
      "occupation        object\n",
      "relationship      object\n",
      "race              object\n",
      "sex               object\n",
      "capital-gain       int64\n",
      "capital-loss       int64\n",
      "hours-per-week     int64\n",
      "native-country    object\n",
      "y                 object\n",
      "dtype: object\n",
      "age               int64\n",
      "workclass         int64\n",
      "fnlwgt            int64\n",
      "education         int64\n",
      "education-num     int64\n",
      "marital-status    int64\n",
      "occupation        int64\n",
      "relationship      int64\n",
      "race              int64\n",
      "sex               int64\n",
      "capital-gain      int64\n",
      "capital-loss      int64\n",
      "hours-per-week    int64\n",
      "native-country    int64\n",
      "y                 int64\n",
      "dtype: object\n",
      "* features:\n",
      "['age', 'workclass', 'fnlwgt', 'education', 'education-num', 'marital-status', 'occupation', 'relationship', 'race', 'sex', 'capital-gain', 'capital-loss', 'hours-per-week', 'native-country']\n"
     ]
    }
   ],
   "source": [
    "ncol = len(df.axes[1])\n",
    "nrow=len(df.axes[0])\n",
    "print(\"%s x %s\" % (nrow, ncol)) #check dimension \n",
    "print (df.dtypes) #check data types\n",
    "\n",
    "# count freq\n",
    "#df.groupby('y').count()\n",
    "\n",
    "#convert object col to int64 and rename-2\n",
    "n = ncol\n",
    "for i in range(0,n):\n",
    "       if (df.iloc[:,i].dtype==object):\n",
    "        A= df.iloc[:,i].unique()\n",
    "        map_to_int = {name: n for n, name in enumerate(A)}\n",
    "        df.iloc[:,i] = df.iloc[:,i].replace(map_to_int)\n",
    "print (df.dtypes)\n",
    "\n",
    "\n",
    "#first n-1col as features, and the last one as target\n",
    "df1=df.iloc[:,0:n]\n",
    "features = list(df1.columns[:(n-1)])\n",
    "print(\"* features:\", features, sep=\"\\n\")\n",
    "df1.rename(columns={'y':'Target'}, inplace=True)\n",
    "#list(df1)\n",
    "#df1\n",
    "\n",
    "y = df1[\"Target\"]\n",
    "X = df1[features]\n",
    "#split data to train and test-3\n",
    "from sklearn.cross_validation import train_test_split\n",
    "\n",
    "train, test = train_test_split(df1, test_size = 0.5)\n",
    "\n",
    "#using train set to construct tree-4\n",
    "y = train[\"Target\"]\n",
    "X = train[features]"
   ]
  },
  {
   "cell_type": "code",
   "execution_count": 3,
   "metadata": {
    "collapsed": false
   },
   "outputs": [],
   "source": [
    "import pandas as pd\n",
    "import numpy as np\n",
    "from sklearn.ensemble import GradientBoostingClassifier\n",
    "import matplotlib.pylab as plt\n",
    "%matplotlib inline"
   ]
  },
  {
   "cell_type": "code",
   "execution_count": 4,
   "metadata": {
    "collapsed": false
   },
   "outputs": [
    {
     "name": "stdout",
     "output_type": "stream",
     "text": [
      "             precision    recall  f1-score   support\n",
      "\n",
      "          0       0.88      0.95      0.91     12374\n",
      "          1       0.79      0.58      0.67      3907\n",
      "\n",
      "avg / total       0.86      0.86      0.86     16281\n",
      "\n",
      "[[11773   601]\n",
      " [ 1628  2279]]\n"
     ]
    },
    {
     "data": {
      "text/plain": [
       "0.91777477350500303"
      ]
     },
     "execution_count": 4,
     "metadata": {},
     "output_type": "execute_result"
    }
   ],
   "source": [
    "#http://scikit-learn.org/stable/modules/ensemble.html\n",
    "\n",
    "\n",
    "# build a classifier\n",
    "clf = GradientBoostingClassifier()\n",
    "\n",
    "clf.fit(X, y)\n",
    "\n",
    "from sklearn import datasets\n",
    "from sklearn import metrics   \n",
    "expected = test[\"Target\"]\n",
    "X1 = test[features]\n",
    "predicted1 = clf.predict(X1)\n",
    "\n",
    "print(metrics.classification_report(expected, predicted1))\n",
    "print(metrics.confusion_matrix(expected, predicted1))\n",
    "\n",
    "# roc1 \n",
    "probas1_ = clf.fit(X, y).predict_proba(X1)\n",
    "\n",
    "from sklearn.metrics import roc_curve, auc\n",
    "import matplotlib.pyplot as plt\n",
    "\n",
    "from sklearn.metrics import roc_curve, auc\n",
    "import matplotlib.pyplot as plt\n",
    "false_positive_rate1, true_positive_rate1, thresholds = roc_curve(expected, probas1_[:, 1])\n",
    "roc_auc1 = auc(false_positive_rate1, true_positive_rate1)\n",
    "roc_auc1"
   ]
  },
  {
   "cell_type": "code",
   "execution_count": 5,
   "metadata": {
    "collapsed": false
   },
   "outputs": [
    {
     "data": {
      "image/png": "[encoded data removed]",
      "text/plain": [
       "<matplotlib.figure.Figure at 0x98c5890>"
      ]
     },
     "metadata": {},
     "output_type": "display_data"
    }
   ],
   "source": [
    "%matplotlib inline\n",
    "plt.title('Receiver Operating Characteristic-GBM')\n",
    "plt.plot(false_positive_rate1, true_positive_rate1, 'g',\n",
    "label='AUC-GBM = %0.5f'% roc_auc1)\n",
    "\n",
    "plt.legend(loc='lower right')\n",
    "plt.plot([0,1],[0,1],'k--')\n",
    "plt.xlim([-0.1,1.2])\n",
    "plt.ylim([-0.1,1.2])\n",
    "plt.ylabel('True Positive Rate')\n",
    "plt.xlabel('False Positive Rate')\n",
    "plt.show()"
   ]
  },
  {
   "cell_type": "code",
   "execution_count": 6,
   "metadata": {
    "collapsed": false
   },
   "outputs": [
    {
     "name": "stdout",
     "output_type": "stream",
     "text": [
      "Feature ranking:\n",
      "1. feature 10 (0.159205)\n",
      "2. feature 11 (0.120050)\n",
      "3. feature 4 (0.119212)\n",
      "4. feature 0 (0.110406)\n",
      "5. feature 5 (0.096623)\n",
      "6. feature 6 (0.089830)\n",
      "7. feature 7 (0.088544)\n",
      "8. feature 12 (0.064985)\n",
      "9. feature 2 (0.053335)\n",
      "10. feature 1 (0.050400)\n",
      "11. feature 9 (0.015320)\n",
      "12. feature 13 (0.013230)\n",
      "13. feature 3 (0.011336)\n",
      "14. feature 8 (0.007525)\n"
     ]
    },
    {
     "data": {
      "image/png": "[encoded data removed]",
      "text/plain": [
       "<matplotlib.figure.Figure at 0x9d9f030>"
      ]
     },
     "metadata": {},
     "output_type": "display_data"
    }
   ],
   "source": [
    "# Plot feature importance\n",
    "\n",
    "clf = GradientBoostingClassifier()\n",
    "\n",
    "clf.fit(X, y)\n",
    "\n",
    "\n",
    "%matplotlib inline\n",
    "#new label\n",
    "features_name = np.array(X.columns.values)\n",
    "features_name\n",
    "\n",
    "importances = clf.feature_importances_\n",
    "std = np.std([clf.feature_importances_ for tree in clf.estimators_],\n",
    "             axis=0)\n",
    "indices = np.argsort(importances)[::-1]\n",
    "# Print the feature ranking\n",
    "print(\"Feature ranking:\")\n",
    "\n",
    "for f in range(X.shape[1]):\n",
    "    print(\"%d. feature %d (%f)\" % (f + 1, indices[f], importances[indices[f]]))\n",
    "\n",
    "# Plot the feature importances \n",
    "plt.figure()\n",
    "plt.title(\"Feature importances\",size=30)\n",
    "plt.bar(range(X.shape[1]), importances[indices],\n",
    "      yerr=std[indices], color='g' , align=\"center\")\n",
    "plt.xticks(range(X.shape[1]), features_name[indices],rotation=45,fontsize = 10)\n",
    "plt.xlim([-1, X.shape[1]])\n",
    "plt.show()\n"
   ]
  }
 ],
 "metadata": {
  "kernelspec": {
   "display_name": "Python 3",
   "language": "python",
   "name": "python3"
  },
  "language_info": {
   "codemirror_mode": {
    "name": "ipython",
    "version": 3
   },
   "file_extension": ".py",
   "mimetype": "text/x-python",
   "name": "python",
   "nbconvert_exporter": "python",
   "pygments_lexer": "ipython3",
   "version": "3.5.1"
  }
 },
 "nbformat": 4,
 "nbformat_minor": 0
}
